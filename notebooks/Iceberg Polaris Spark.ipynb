{
 "cells": [
  {
   "cell_type": "markdown",
   "id": "f851a6d6-899a-4a13-a78f-c30f3422238e",
   "metadata": {},
   "source": [
    "# Setup"
   ]
  },
  {
   "cell_type": "code",
   "execution_count": 1,
   "id": "ec489088-5204-4bd3-b309-93c11f184bf1",
   "metadata": {},
   "outputs": [],
   "source": [
    "# h/t https://www.dremio.com/blog/getting-hands-on-with-polaris-oss-apache-iceberg-and-apache-spark/\n",
    "import pyspark\n",
    "from pyspark.sql import SparkSession\n",
    "import os\n",
    "\n",
    "## DEFINE SENSITIVE VARIABLES\n",
    "POLARIS_URI = 'http://polaris:8181/api/catalog'\n",
    "POLARIS_CATALOG_NAME = 'polariscatalog'\n",
    "POLARIS_CREDENTIALS = 'root:secret'\n",
    "POLARIS_SCOPE = 'PRINCIPAL_ROLE:ALL'"
   ]
  },
  {
   "cell_type": "code",
   "execution_count": 2,
   "id": "f76fe6da-415b-4ff2-be45-e9fb81b45397",
   "metadata": {},
   "outputs": [
    {
     "name": "stdout",
     "output_type": "stream",
     "text": [
      "Spark Running\n"
     ]
    },
    {
     "name": "stderr",
     "output_type": "stream",
     "text": [
      "25/07/15 17:30:03 WARN SparkSession: Using an existing Spark session; only runtime SQL configurations will take effect.\n"
     ]
    }
   ],
   "source": [
    "conf = (\n",
    "    pyspark.SparkConf()\n",
    "        .setAppName('lakehouse')\n",
    "  \t\t#packages\n",
    "        .set('spark.jars.packages', 'org.apache.iceberg:iceberg-spark-runtime-3.5_2.12:1.9.1,org.apache.hadoop:hadoop-aws:3.4.0')\n",
    "  \t\t#SQL Extensions\n",
    "        .set('spark.sql.extensions', 'org.apache.iceberg.spark.extensions.IcebergSparkSessionExtensions')\n",
    "  \t\t#Configuring Catalog\n",
    "        .set('spark.sql.catalog.polaris', 'org.apache.iceberg.spark.SparkCatalog')\n",
    "        .set('spark.sql.catalog.polaris.warehouse', POLARIS_CATALOG_NAME)\n",
    "        .set('spark.sql.catalog.polaris.header.X-Iceberg-Access-Delegation', 'true')\n",
    "        .set('spark.sql.catalog.polaris.catalog-impl', 'org.apache.iceberg.rest.RESTCatalog')\n",
    "        .set('spark.sql.catalog.polaris.uri', POLARIS_URI)\n",
    "        .set('spark.sql.catalog.polaris.credential', POLARIS_CREDENTIALS)\n",
    "        .set('spark.sql.catalog.polaris.scope', POLARIS_SCOPE)\n",
    "        .set('spark.sql.catalog.polaris.token-refresh-enabled', 'true')\n",
    "        .set('spark.sql.defaultCatalog', 'polaris')\n",
    "        # S3 Configuration\n",
    "        .set('spark.hadoop.fs.s3.impl', 'org.apache.hadoop.fs.s3a.S3AFileSystem')\n",
    "        .set('spark.hadoop.fs.AbstractFileSystem.s3.impl', 'org.apache.hadoop.fs.s3a.S3A')\n",
    ")\n",
    "\n",
    "## Start Spark Session\n",
    "spark = SparkSession.builder.config(conf=conf).getOrCreate()\n",
    "print(\"Spark Running\")"
   ]
  },
  {
   "cell_type": "code",
   "execution_count": 4,
   "id": "6cca0e4e-f56f-4273-80c0-c756fe896e81",
   "metadata": {},
   "outputs": [],
   "source": [
    "# # Run this for debug of the config\n",
    "# for item in spark.sparkContext.getConf().getAll():\n",
    "#     print(f\"{item[0]}: {item[1]}\")"
   ]
  },
  {
   "cell_type": "markdown",
   "id": "a8cdf292-6c11-4401-a0d8-6c58a54ed1dc",
   "metadata": {},
   "source": [
    "Expect the following warning the first time that you run something:\n",
    "\n",
    "```\n",
    "WARN RESTSessionCatalog: Iceberg REST client is missing the OAuth2 server URI configuration[…]\n",
    "```"
   ]
  },
  {
   "cell_type": "markdown",
   "id": "b1193f8f-c0e7-4b27-9f4c-61fbdeb369e4",
   "metadata": {},
   "source": [
    "# Create database and table"
   ]
  },
  {
   "cell_type": "code",
   "execution_count": 3,
   "id": "a0ee70f1-a9ae-46d2-8599-b41cb5f0a08e",
   "metadata": {},
   "outputs": [
    {
     "name": "stderr",
     "output_type": "stream",
     "text": [
      "25/07/15 17:30:09 WARN RESTSessionCatalog: Iceberg REST client is missing the OAuth2 server URI configuration and defaults to http://polaris:8181/api/catalog/v1/oauth/tokens. This automatic fallback will be removed in a future Iceberg release.It is recommended to configure the OAuth2 endpoint using the 'oauth2-server-uri' property to be prepared. This warning will disappear if the OAuth2 endpoint is explicitly configured. See https://github.com/apache/iceberg/issues/10537\n"
     ]
    },
    {
     "name": "stdout",
     "output_type": "stream",
     "text": [
      "+---------+\n",
      "|namespace|\n",
      "+---------+\n",
      "|lakehouse|\n",
      "+---------+\n",
      "\n"
     ]
    }
   ],
   "source": [
    "spark.sql(\"CREATE NAMESPACE IF NOT EXISTS polaris.lakehouse\")\n",
    "spark.sql(\"SHOW DATABASES IN polaris\").show()"
   ]
  },
  {
   "cell_type": "code",
   "execution_count": 4,
   "id": "40a4879a-a67b-4803-9c37-2a9f19ddcc0d",
   "metadata": {},
   "outputs": [
    {
     "name": "stderr",
     "output_type": "stream",
     "text": [
      "25/07/15 17:30:17 WARN SparkSession: Using an existing Spark session; only runtime SQL configurations will take effect.\n"
     ]
    },
    {
     "data": {
      "text/html": [
       "<table>\n",
       "    <thead>\n",
       "        <tr>\n",
       "        </tr>\n",
       "    </thead>\n",
       "    <tbody>\n",
       "    </tbody>\n",
       "</table>"
      ],
      "text/plain": [
       "++\n",
       "||\n",
       "++\n",
       "++"
      ]
     },
     "execution_count": 4,
     "metadata": {},
     "output_type": "execute_result"
    }
   ],
   "source": [
    "%%sql\n",
    "USE polaris.lakehouse;"
   ]
  },
  {
   "cell_type": "code",
   "execution_count": 5,
   "id": "704ddaf6-5cb8-4b3b-8bc8-03fc9c1f58ab",
   "metadata": {},
   "outputs": [
    {
     "data": {
      "text/html": [
       "<table>\n",
       "    <thead>\n",
       "        <tr>\n",
       "        </tr>\n",
       "    </thead>\n",
       "    <tbody>\n",
       "    </tbody>\n",
       "</table>"
      ],
      "text/plain": [
       "++\n",
       "||\n",
       "++\n",
       "++"
      ]
     },
     "execution_count": 5,
     "metadata": {},
     "output_type": "execute_result"
    }
   ],
   "source": [
    "%%sql\n",
    "CREATE TABLE\n",
    "  IF NOT EXISTS customers (\n",
    "    customer_id BIGINT,\n",
    "    first_name VARCHAR(255),\n",
    "    last_name VARCHAR(255),\n",
    "    email VARCHAR(255)\n",
    "  );"
   ]
  },
  {
   "cell_type": "markdown",
   "id": "c7d5a4e5-0088-46f7-b22f-0d85516d588b",
   "metadata": {},
   "source": [
    "# Insert a row"
   ]
  },
  {
   "cell_type": "code",
   "execution_count": 6,
   "id": "145e5ca7-9c08-462e-a2d2-3de30c905ae5",
   "metadata": {},
   "outputs": [
    {
     "name": "stderr",
     "output_type": "stream",
     "text": [
      "                                                                                "
     ]
    },
    {
     "data": {
      "text/html": [
       "<table>\n",
       "    <thead>\n",
       "        <tr>\n",
       "        </tr>\n",
       "    </thead>\n",
       "    <tbody>\n",
       "    </tbody>\n",
       "</table>"
      ],
      "text/plain": [
       "++\n",
       "||\n",
       "++\n",
       "++"
      ]
     },
     "execution_count": 6,
     "metadata": {},
     "output_type": "execute_result"
    }
   ],
   "source": [
    "%%sql\n",
    "INSERT INTO\n",
    "  customers (customer_id, first_name, last_name, email)\n",
    "VALUES\n",
    "  (1, 'Rey', 'Skywalker', 'rey@rebelscum.org');"
   ]
  },
  {
   "cell_type": "code",
   "execution_count": 7,
   "id": "10f2afc6-53cb-4bd2-8066-f950910e41dd",
   "metadata": {},
   "outputs": [],
   "source": [
    "for i in range(5):\n",
    "    spark.sql(\"\"\"\n",
    "        INSERT INTO customers (customer_id, first_name, last_name, email) \n",
    "        VALUES (1, 'Rey', 'Skywalker', 'rey@rebelscum.org')\n",
    "    \"\"\")"
   ]
  },
  {
   "cell_type": "markdown",
   "id": "3c308a99-f3b0-47aa-b5af-ab508f904ad5",
   "metadata": {},
   "source": [
    "# Examine metadata\n",
    "\n",
    "See https://iceberg.apache.org/docs/latest/spark-queries/#inspecting-tables"
   ]
  },
  {
   "cell_type": "code",
   "execution_count": 8,
   "id": "d825577e-0ed5-48cf-9ed9-957accd0e5f3",
   "metadata": {},
   "outputs": [
    {
     "data": {
      "text/html": [
       "<table>\n",
       "    <thead>\n",
       "        <tr>\n",
       "            <th>count(1)</th>\n",
       "        </tr>\n",
       "    </thead>\n",
       "    <tbody>\n",
       "        <tr>\n",
       "            <td>6</td>\n",
       "        </tr>\n",
       "    </tbody>\n",
       "</table>"
      ],
      "text/plain": [
       "+----------+\n",
       "| count(1) |\n",
       "+----------+\n",
       "|        6 |\n",
       "+----------+"
      ]
     },
     "execution_count": 8,
     "metadata": {},
     "output_type": "execute_result"
    }
   ],
   "source": [
    "%%sql\n",
    "\n",
    "SELECT COUNT(*) FROM customers;"
   ]
  },
  {
   "cell_type": "code",
   "execution_count": 9,
   "id": "137857e7-f6a2-4356-9940-842853f8c401",
   "metadata": {},
   "outputs": [
    {
     "data": {
      "text/html": [
       "<table>\n",
       "    <thead>\n",
       "        <tr>\n",
       "            <th>count(1)</th>\n",
       "            <th>sum(record_count)</th>\n",
       "        </tr>\n",
       "    </thead>\n",
       "    <tbody>\n",
       "        <tr>\n",
       "            <td>6</td>\n",
       "            <td>6</td>\n",
       "        </tr>\n",
       "    </tbody>\n",
       "</table>"
      ],
      "text/plain": [
       "+----------+-------------------+\n",
       "| count(1) | sum(record_count) |\n",
       "+----------+-------------------+\n",
       "|        6 |                 6 |\n",
       "+----------+-------------------+"
      ]
     },
     "execution_count": 9,
     "metadata": {},
     "output_type": "execute_result"
    }
   ],
   "source": [
    "%%sql\n",
    "\n",
    "SELECT COUNT(*), SUM(record_count) FROM polaris.lakehouse.customers.files;"
   ]
  },
  {
   "cell_type": "code",
   "execution_count": 10,
   "id": "2e0d973e-cacf-4108-af29-3ffa1f3a8549",
   "metadata": {},
   "outputs": [
    {
     "data": {
      "text/html": [
       "<table>\n",
       "    <thead>\n",
       "        <tr>\n",
       "            <th>file_path</th>\n",
       "            <th>record_count</th>\n",
       "            <th>file_size_in_bytes</th>\n",
       "        </tr>\n",
       "    </thead>\n",
       "    <tbody>\n",
       "        <tr>\n",
       "            <td>s3://warehouse/lakehouse/customers/data/00000-5-a741261a-ad83-42a8-a862-7c2443459275-0-00001.parquet</td>\n",
       "            <td>1</td>\n",
       "            <td>1367</td>\n",
       "        </tr>\n",
       "        <tr>\n",
       "            <td>s3://warehouse/lakehouse/customers/data/00000-4-dddf2cca-64ab-4fb1-8fa6-529f984b7efb-0-00001.parquet</td>\n",
       "            <td>1</td>\n",
       "            <td>1367</td>\n",
       "        </tr>\n",
       "        <tr>\n",
       "            <td>s3://warehouse/lakehouse/customers/data/00000-3-4db9519f-001d-45c5-ba33-25c740ea4832-0-00001.parquet</td>\n",
       "            <td>1</td>\n",
       "            <td>1367</td>\n",
       "        </tr>\n",
       "        <tr>\n",
       "            <td>s3://warehouse/lakehouse/customers/data/00000-2-b9cbcc53-3771-4a91-8b2e-3b959544efda-0-00001.parquet</td>\n",
       "            <td>1</td>\n",
       "            <td>1367</td>\n",
       "        </tr>\n",
       "        <tr>\n",
       "            <td>s3://warehouse/lakehouse/customers/data/00000-1-4b88846f-a81b-4c91-9cc4-bf588607c59a-0-00001.parquet</td>\n",
       "            <td>1</td>\n",
       "            <td>1367</td>\n",
       "        </tr>\n",
       "        <tr>\n",
       "            <td>s3://warehouse/lakehouse/customers/data/00000-0-34a3b148-a850-4c33-8003-53192f171753-0-00001.parquet</td>\n",
       "            <td>1</td>\n",
       "            <td>1367</td>\n",
       "        </tr>\n",
       "    </tbody>\n",
       "</table>"
      ],
      "text/plain": [
       "+------------------------------------------------------------------------------------------------------+--------------+--------------------+\n",
       "|                                                                                            file_path | record_count | file_size_in_bytes |\n",
       "+------------------------------------------------------------------------------------------------------+--------------+--------------------+\n",
       "| s3://warehouse/lakehouse/customers/data/00000-5-a741261a-ad83-42a8-a862-7c2443459275-0-00001.parquet |            1 |               1367 |\n",
       "| s3://warehouse/lakehouse/customers/data/00000-4-dddf2cca-64ab-4fb1-8fa6-529f984b7efb-0-00001.parquet |            1 |               1367 |\n",
       "| s3://warehouse/lakehouse/customers/data/00000-3-4db9519f-001d-45c5-ba33-25c740ea4832-0-00001.parquet |            1 |               1367 |\n",
       "| s3://warehouse/lakehouse/customers/data/00000-2-b9cbcc53-3771-4a91-8b2e-3b959544efda-0-00001.parquet |            1 |               1367 |\n",
       "| s3://warehouse/lakehouse/customers/data/00000-1-4b88846f-a81b-4c91-9cc4-bf588607c59a-0-00001.parquet |            1 |               1367 |\n",
       "| s3://warehouse/lakehouse/customers/data/00000-0-34a3b148-a850-4c33-8003-53192f171753-0-00001.parquet |            1 |               1367 |\n",
       "+------------------------------------------------------------------------------------------------------+--------------+--------------------+"
      ]
     },
     "execution_count": 10,
     "metadata": {},
     "output_type": "execute_result"
    }
   ],
   "source": [
    "%%sql\n",
    "SELECT\n",
    "  file_path,   record_count,   file_size_in_bytes\n",
    "FROM\n",
    "  polaris.lakehouse.customers.files;"
   ]
  },
  {
   "cell_type": "code",
   "execution_count": 11,
   "id": "bea94171-6470-4838-81fd-cbef4bf60542",
   "metadata": {},
   "outputs": [],
   "source": [
    "from pyspark.sql.types import StructType, StructField, IntegerType, StringType\n",
    "\n",
    "# Define schema\n",
    "schema = StructType([\n",
    "    StructField(\"customer_id\", IntegerType(), True),\n",
    "    StructField(\"first_name\", StringType(), True),\n",
    "    StructField(\"last_name\", StringType(), True),\n",
    "    StructField(\"email\", StringType(), True)\n",
    "])\n",
    "\n",
    "# Create data for 10 identical rows\n",
    "data = [(1, 'Rey', 'Skywalker', 'rey@rebelscum.org')] * 10\n",
    "\n",
    "# Create DataFrame and insert\n",
    "df = spark.createDataFrame(data, schema)\n",
    "df.write.mode(\"append\").insertInto(\"customers\")"
   ]
  },
  {
   "cell_type": "code",
   "execution_count": 12,
   "id": "241ebc52-b063-46b8-a77e-b5d1c016a782",
   "metadata": {},
   "outputs": [
    {
     "data": {
      "text/html": [
       "<table>\n",
       "    <thead>\n",
       "        <tr>\n",
       "        </tr>\n",
       "    </thead>\n",
       "    <tbody>\n",
       "    </tbody>\n",
       "</table>"
      ],
      "text/plain": [
       "++\n",
       "||\n",
       "++\n",
       "++"
      ]
     },
     "execution_count": 12,
     "metadata": {},
     "output_type": "execute_result"
    }
   ],
   "source": [
    "%%sql\n",
    "    INSERT INTO customers (customer_id, first_name, last_name, email) \n",
    "VALUES (1, 'Rey', 'Skywalker', 'rey@rebelscum.org'),\n",
    "       (2, 'Hermione', 'Granger', 'hermione@hogwarts.edu'),\n",
    "       (3, 'Tony', 'Stark', 'tony@starkindustries.com');"
   ]
  },
  {
   "cell_type": "markdown",
   "id": "8c0eca62-01f4-4af6-85e6-5de79f87966c",
   "metadata": {},
   "source": [
    "# Insert a second row"
   ]
  },
  {
   "cell_type": "code",
   "execution_count": 13,
   "id": "1488358b-9277-4013-907c-eb73f93d5ff8",
   "metadata": {},
   "outputs": [
    {
     "data": {
      "text/html": [
       "<table>\n",
       "    <thead>\n",
       "        <tr>\n",
       "        </tr>\n",
       "    </thead>\n",
       "    <tbody>\n",
       "    </tbody>\n",
       "</table>"
      ],
      "text/plain": [
       "++\n",
       "||\n",
       "++\n",
       "++"
      ]
     },
     "execution_count": 13,
     "metadata": {},
     "output_type": "execute_result"
    }
   ],
   "source": [
    "%%sql\n",
    "INSERT INTO\n",
    "  customers (customer_id, first_name, last_name, email)\n",
    "VALUES\n",
    "  (2, 'Hermione', 'Granger', 'leviosaaaaa@hogwarts.edu');\n"
   ]
  },
  {
   "cell_type": "markdown",
   "id": "8ded1033-5f0a-49b5-b87d-c8a139dfbc8b",
   "metadata": {},
   "source": [
    "# Examine metadata\n",
    "\n",
    "See https://iceberg.apache.org/docs/latest/spark-queries/#inspecting-tables"
   ]
  },
  {
   "cell_type": "code",
   "execution_count": 14,
   "id": "5f4ca0f7-0260-430a-afa8-030c30317d5b",
   "metadata": {},
   "outputs": [
    {
     "data": {
      "text/html": [
       "<table>\n",
       "    <thead>\n",
       "        <tr>\n",
       "            <th>file_path</th>\n",
       "            <th>record_count</th>\n",
       "            <th>file_size_in_bytes</th>\n",
       "        </tr>\n",
       "    </thead>\n",
       "    <tbody>\n",
       "        <tr>\n",
       "            <td>s3://warehouse/lakehouse/customers/data/00000-30-6e4120ad-2356-413d-b2ee-feceb4042258-0-00001.parquet</td>\n",
       "            <td>1</td>\n",
       "            <td>1438</td>\n",
       "        </tr>\n",
       "        <tr>\n",
       "            <td>s3://warehouse/lakehouse/customers/data/00000-27-a5adea9c-f5e1-4440-be9b-8fb866203a74-0-00001.parquet</td>\n",
       "            <td>1</td>\n",
       "            <td>1367</td>\n",
       "        </tr>\n",
       "        <tr>\n",
       "            <td>s3://warehouse/lakehouse/customers/data/00001-28-a5adea9c-f5e1-4440-be9b-8fb866203a74-0-00001.parquet</td>\n",
       "            <td>1</td>\n",
       "            <td>1416</td>\n",
       "        </tr>\n",
       "        <tr>\n",
       "            <td>s3://warehouse/lakehouse/customers/data/00002-29-a5adea9c-f5e1-4440-be9b-8fb866203a74-0-00001.parquet</td>\n",
       "            <td>1</td>\n",
       "            <td>1396</td>\n",
       "        </tr>\n",
       "        <tr>\n",
       "            <td>s3://warehouse/lakehouse/customers/data/00001-14-1406b9fb-a6d7-4b6c-8492-15c832d3bf3f-0-00001.parquet</td>\n",
       "            <td>1</td>\n",
       "            <td>1407</td>\n",
       "        </tr>\n",
       "        <tr>\n",
       "            <td>s3://warehouse/lakehouse/customers/data/00002-15-1406b9fb-a6d7-4b6c-8492-15c832d3bf3f-0-00001.parquet</td>\n",
       "            <td>1</td>\n",
       "            <td>1407</td>\n",
       "        </tr>\n",
       "        <tr>\n",
       "            <td>s3://warehouse/lakehouse/customers/data/00004-17-1406b9fb-a6d7-4b6c-8492-15c832d3bf3f-0-00001.parquet</td>\n",
       "            <td>1</td>\n",
       "            <td>1407</td>\n",
       "        </tr>\n",
       "        <tr>\n",
       "            <td>s3://warehouse/lakehouse/customers/data/00005-18-1406b9fb-a6d7-4b6c-8492-15c832d3bf3f-0-00001.parquet</td>\n",
       "            <td>1</td>\n",
       "            <td>1407</td>\n",
       "        </tr>\n",
       "        <tr>\n",
       "            <td>s3://warehouse/lakehouse/customers/data/00006-19-1406b9fb-a6d7-4b6c-8492-15c832d3bf3f-0-00001.parquet</td>\n",
       "            <td>1</td>\n",
       "            <td>1407</td>\n",
       "        </tr>\n",
       "        <tr>\n",
       "            <td>s3://warehouse/lakehouse/customers/data/00008-21-1406b9fb-a6d7-4b6c-8492-15c832d3bf3f-0-00001.parquet</td>\n",
       "            <td>1</td>\n",
       "            <td>1407</td>\n",
       "        </tr>\n",
       "        <tr>\n",
       "            <td>s3://warehouse/lakehouse/customers/data/00009-22-1406b9fb-a6d7-4b6c-8492-15c832d3bf3f-0-00001.parquet</td>\n",
       "            <td>1</td>\n",
       "            <td>1407</td>\n",
       "        </tr>\n",
       "        <tr>\n",
       "            <td>s3://warehouse/lakehouse/customers/data/00011-24-1406b9fb-a6d7-4b6c-8492-15c832d3bf3f-0-00001.parquet</td>\n",
       "            <td>1</td>\n",
       "            <td>1407</td>\n",
       "        </tr>\n",
       "        <tr>\n",
       "            <td>s3://warehouse/lakehouse/customers/data/00012-25-1406b9fb-a6d7-4b6c-8492-15c832d3bf3f-0-00001.parquet</td>\n",
       "            <td>1</td>\n",
       "            <td>1407</td>\n",
       "        </tr>\n",
       "        <tr>\n",
       "            <td>s3://warehouse/lakehouse/customers/data/00013-26-1406b9fb-a6d7-4b6c-8492-15c832d3bf3f-0-00001.parquet</td>\n",
       "            <td>1</td>\n",
       "            <td>1407</td>\n",
       "        </tr>\n",
       "        <tr>\n",
       "            <td>s3://warehouse/lakehouse/customers/data/00000-5-a741261a-ad83-42a8-a862-7c2443459275-0-00001.parquet</td>\n",
       "            <td>1</td>\n",
       "            <td>1367</td>\n",
       "        </tr>\n",
       "        <tr>\n",
       "            <td>s3://warehouse/lakehouse/customers/data/00000-4-dddf2cca-64ab-4fb1-8fa6-529f984b7efb-0-00001.parquet</td>\n",
       "            <td>1</td>\n",
       "            <td>1367</td>\n",
       "        </tr>\n",
       "        <tr>\n",
       "            <td>s3://warehouse/lakehouse/customers/data/00000-3-4db9519f-001d-45c5-ba33-25c740ea4832-0-00001.parquet</td>\n",
       "            <td>1</td>\n",
       "            <td>1367</td>\n",
       "        </tr>\n",
       "        <tr>\n",
       "            <td>s3://warehouse/lakehouse/customers/data/00000-2-b9cbcc53-3771-4a91-8b2e-3b959544efda-0-00001.parquet</td>\n",
       "            <td>1</td>\n",
       "            <td>1367</td>\n",
       "        </tr>\n",
       "        <tr>\n",
       "            <td>s3://warehouse/lakehouse/customers/data/00000-1-4b88846f-a81b-4c91-9cc4-bf588607c59a-0-00001.parquet</td>\n",
       "            <td>1</td>\n",
       "            <td>1367</td>\n",
       "        </tr>\n",
       "        <tr>\n",
       "            <td>s3://warehouse/lakehouse/customers/data/00000-0-34a3b148-a850-4c33-8003-53192f171753-0-00001.parquet</td>\n",
       "            <td>1</td>\n",
       "            <td>1367</td>\n",
       "        </tr>\n",
       "    </tbody>\n",
       "</table>"
      ],
      "text/plain": [
       "+-------------------------------------------------------------------------------------------------------+--------------+--------------------+\n",
       "|                                                                                             file_path | record_count | file_size_in_bytes |\n",
       "+-------------------------------------------------------------------------------------------------------+--------------+--------------------+\n",
       "| s3://warehouse/lakehouse/customers/data/00000-30-6e4120ad-2356-413d-b2ee-feceb4042258-0-00001.parquet |            1 |               1438 |\n",
       "| s3://warehouse/lakehouse/customers/data/00000-27-a5adea9c-f5e1-4440-be9b-8fb866203a74-0-00001.parquet |            1 |               1367 |\n",
       "| s3://warehouse/lakehouse/customers/data/00001-28-a5adea9c-f5e1-4440-be9b-8fb866203a74-0-00001.parquet |            1 |               1416 |\n",
       "| s3://warehouse/lakehouse/customers/data/00002-29-a5adea9c-f5e1-4440-be9b-8fb866203a74-0-00001.parquet |            1 |               1396 |\n",
       "| s3://warehouse/lakehouse/customers/data/00001-14-1406b9fb-a6d7-4b6c-8492-15c832d3bf3f-0-00001.parquet |            1 |               1407 |\n",
       "| s3://warehouse/lakehouse/customers/data/00002-15-1406b9fb-a6d7-4b6c-8492-15c832d3bf3f-0-00001.parquet |            1 |               1407 |\n",
       "| s3://warehouse/lakehouse/customers/data/00004-17-1406b9fb-a6d7-4b6c-8492-15c832d3bf3f-0-00001.parquet |            1 |               1407 |\n",
       "| s3://warehouse/lakehouse/customers/data/00005-18-1406b9fb-a6d7-4b6c-8492-15c832d3bf3f-0-00001.parquet |            1 |               1407 |\n",
       "| s3://warehouse/lakehouse/customers/data/00006-19-1406b9fb-a6d7-4b6c-8492-15c832d3bf3f-0-00001.parquet |            1 |               1407 |\n",
       "| s3://warehouse/lakehouse/customers/data/00008-21-1406b9fb-a6d7-4b6c-8492-15c832d3bf3f-0-00001.parquet |            1 |               1407 |\n",
       "| s3://warehouse/lakehouse/customers/data/00009-22-1406b9fb-a6d7-4b6c-8492-15c832d3bf3f-0-00001.parquet |            1 |               1407 |\n",
       "| s3://warehouse/lakehouse/customers/data/00011-24-1406b9fb-a6d7-4b6c-8492-15c832d3bf3f-0-00001.parquet |            1 |               1407 |\n",
       "| s3://warehouse/lakehouse/customers/data/00012-25-1406b9fb-a6d7-4b6c-8492-15c832d3bf3f-0-00001.parquet |            1 |               1407 |\n",
       "| s3://warehouse/lakehouse/customers/data/00013-26-1406b9fb-a6d7-4b6c-8492-15c832d3bf3f-0-00001.parquet |            1 |               1407 |\n",
       "|  s3://warehouse/lakehouse/customers/data/00000-5-a741261a-ad83-42a8-a862-7c2443459275-0-00001.parquet |            1 |               1367 |\n",
       "|  s3://warehouse/lakehouse/customers/data/00000-4-dddf2cca-64ab-4fb1-8fa6-529f984b7efb-0-00001.parquet |            1 |               1367 |\n",
       "|  s3://warehouse/lakehouse/customers/data/00000-3-4db9519f-001d-45c5-ba33-25c740ea4832-0-00001.parquet |            1 |               1367 |\n",
       "|  s3://warehouse/lakehouse/customers/data/00000-2-b9cbcc53-3771-4a91-8b2e-3b959544efda-0-00001.parquet |            1 |               1367 |\n",
       "|  s3://warehouse/lakehouse/customers/data/00000-1-4b88846f-a81b-4c91-9cc4-bf588607c59a-0-00001.parquet |            1 |               1367 |\n",
       "|  s3://warehouse/lakehouse/customers/data/00000-0-34a3b148-a850-4c33-8003-53192f171753-0-00001.parquet |            1 |               1367 |\n",
       "+-------------------------------------------------------------------------------------------------------+--------------+--------------------+"
      ]
     },
     "execution_count": 14,
     "metadata": {},
     "output_type": "execute_result"
    }
   ],
   "source": [
    "%%sql\n",
    "SELECT\n",
    "  file_path,\n",
    "  record_count,\n",
    "  file_size_in_bytes\n",
    "FROM\n",
    "  polaris.lakehouse.customers.files;"
   ]
  },
  {
   "cell_type": "markdown",
   "id": "7ef86ae5-1730-400b-bc9a-da1e7047b93b",
   "metadata": {},
   "source": [
    "# Rewrite data files"
   ]
  },
  {
   "cell_type": "code",
   "execution_count": 15,
   "id": "03787f4b-2867-4f83-9f50-816486980b67",
   "metadata": {},
   "outputs": [
    {
     "data": {
      "text/html": [
       "<table>\n",
       "    <thead>\n",
       "        <tr>\n",
       "            <th>data_file_ct</th>\n",
       "            <th>record_ct</th>\n",
       "        </tr>\n",
       "    </thead>\n",
       "    <tbody>\n",
       "        <tr>\n",
       "            <td>20</td>\n",
       "            <td>20</td>\n",
       "        </tr>\n",
       "    </tbody>\n",
       "</table>"
      ],
      "text/plain": [
       "+--------------+-----------+\n",
       "| data_file_ct | record_ct |\n",
       "+--------------+-----------+\n",
       "|           20 |        20 |\n",
       "+--------------+-----------+"
      ]
     },
     "execution_count": 15,
     "metadata": {},
     "output_type": "execute_result"
    }
   ],
   "source": [
    "%%sql\n",
    "SELECT COUNT(*) AS data_file_ct, SUM(record_count) AS record_ct FROM polaris.lakehouse.customers.files;"
   ]
  },
  {
   "cell_type": "code",
   "execution_count": null,
   "id": "138a54b0-b333-4454-9ab6-d24752e072c0",
   "metadata": {},
   "outputs": [
    {
     "name": "stderr",
     "output_type": "stream",
     "text": [
      "25/07/14 14:44:42 WARN RESTSessionCatalog: Iceberg REST client is missing the OAuth2 server URI configuration and defaults to http://polaris:8181/api/catalog/v1/oauth/tokens. This automatic fallback will be removed in a future Iceberg release.It is recommended to configure the OAuth2 endpoint using the 'oauth2-server-uri' property to be prepared. This warning will disappear if the OAuth2 endpoint is explicitly configured. See https://github.com/apache/iceberg/issues/10537\n"
     ]
    },
    {
     "data": {
      "text/html": [
       "<table>\n",
       "    <thead>\n",
       "        <tr>\n",
       "            <th>rewritten_data_files_count</th>\n",
       "            <th>added_data_files_count</th>\n",
       "            <th>rewritten_bytes_count</th>\n",
       "            <th>failed_data_files_count</th>\n",
       "        </tr>\n",
       "    </thead>\n",
       "    <tbody>\n",
       "        <tr>\n",
       "            <td>6</td>\n",
       "            <td>1</td>\n",
       "            <td>7757</td>\n",
       "            <td>0</td>\n",
       "        </tr>\n",
       "    </tbody>\n",
       "</table>"
      ],
      "text/plain": [
       "+----------------------------+------------------------+-----------------------+-------------------------+\n",
       "| rewritten_data_files_count | added_data_files_count | rewritten_bytes_count | failed_data_files_count |\n",
       "+----------------------------+------------------------+-----------------------+-------------------------+\n",
       "|                          6 |                      1 |                  7757 |                       0 |\n",
       "+----------------------------+------------------------+-----------------------+-------------------------+"
      ]
     },
     "execution_count": 13,
     "metadata": {},
     "output_type": "execute_result"
    }
   ],
   "source": [
    "%%sql\n",
    "CALL polaris.system.rewrite_data_files \n",
    "    (table => 'lakehouse.customers',\n",
    "      options => map ('rewrite-all', 'true')\n",
    ")"
   ]
  },
  {
   "cell_type": "code",
   "execution_count": 16,
   "id": "2a822d35-9666-4b0e-a2f9-0cc073e33556",
   "metadata": {},
   "outputs": [
    {
     "data": {
      "text/html": [
       "<table>\n",
       "    <thead>\n",
       "        <tr>\n",
       "            <th>file_path</th>\n",
       "            <th>record_count</th>\n",
       "            <th>file_size_in_bytes</th>\n",
       "        </tr>\n",
       "    </thead>\n",
       "    <tbody>\n",
       "        <tr>\n",
       "            <td>s3://warehouse/lakehouse/customers/data/00000-30-6e4120ad-2356-413d-b2ee-feceb4042258-0-00001.parquet</td>\n",
       "            <td>1</td>\n",
       "            <td>1438</td>\n",
       "        </tr>\n",
       "        <tr>\n",
       "            <td>s3://warehouse/lakehouse/customers/data/00000-27-a5adea9c-f5e1-4440-be9b-8fb866203a74-0-00001.parquet</td>\n",
       "            <td>1</td>\n",
       "            <td>1367</td>\n",
       "        </tr>\n",
       "        <tr>\n",
       "            <td>s3://warehouse/lakehouse/customers/data/00001-28-a5adea9c-f5e1-4440-be9b-8fb866203a74-0-00001.parquet</td>\n",
       "            <td>1</td>\n",
       "            <td>1416</td>\n",
       "        </tr>\n",
       "        <tr>\n",
       "            <td>s3://warehouse/lakehouse/customers/data/00002-29-a5adea9c-f5e1-4440-be9b-8fb866203a74-0-00001.parquet</td>\n",
       "            <td>1</td>\n",
       "            <td>1396</td>\n",
       "        </tr>\n",
       "        <tr>\n",
       "            <td>s3://warehouse/lakehouse/customers/data/00001-14-1406b9fb-a6d7-4b6c-8492-15c832d3bf3f-0-00001.parquet</td>\n",
       "            <td>1</td>\n",
       "            <td>1407</td>\n",
       "        </tr>\n",
       "        <tr>\n",
       "            <td>s3://warehouse/lakehouse/customers/data/00002-15-1406b9fb-a6d7-4b6c-8492-15c832d3bf3f-0-00001.parquet</td>\n",
       "            <td>1</td>\n",
       "            <td>1407</td>\n",
       "        </tr>\n",
       "        <tr>\n",
       "            <td>s3://warehouse/lakehouse/customers/data/00004-17-1406b9fb-a6d7-4b6c-8492-15c832d3bf3f-0-00001.parquet</td>\n",
       "            <td>1</td>\n",
       "            <td>1407</td>\n",
       "        </tr>\n",
       "        <tr>\n",
       "            <td>s3://warehouse/lakehouse/customers/data/00005-18-1406b9fb-a6d7-4b6c-8492-15c832d3bf3f-0-00001.parquet</td>\n",
       "            <td>1</td>\n",
       "            <td>1407</td>\n",
       "        </tr>\n",
       "        <tr>\n",
       "            <td>s3://warehouse/lakehouse/customers/data/00006-19-1406b9fb-a6d7-4b6c-8492-15c832d3bf3f-0-00001.parquet</td>\n",
       "            <td>1</td>\n",
       "            <td>1407</td>\n",
       "        </tr>\n",
       "        <tr>\n",
       "            <td>s3://warehouse/lakehouse/customers/data/00008-21-1406b9fb-a6d7-4b6c-8492-15c832d3bf3f-0-00001.parquet</td>\n",
       "            <td>1</td>\n",
       "            <td>1407</td>\n",
       "        </tr>\n",
       "        <tr>\n",
       "            <td>s3://warehouse/lakehouse/customers/data/00009-22-1406b9fb-a6d7-4b6c-8492-15c832d3bf3f-0-00001.parquet</td>\n",
       "            <td>1</td>\n",
       "            <td>1407</td>\n",
       "        </tr>\n",
       "        <tr>\n",
       "            <td>s3://warehouse/lakehouse/customers/data/00011-24-1406b9fb-a6d7-4b6c-8492-15c832d3bf3f-0-00001.parquet</td>\n",
       "            <td>1</td>\n",
       "            <td>1407</td>\n",
       "        </tr>\n",
       "        <tr>\n",
       "            <td>s3://warehouse/lakehouse/customers/data/00012-25-1406b9fb-a6d7-4b6c-8492-15c832d3bf3f-0-00001.parquet</td>\n",
       "            <td>1</td>\n",
       "            <td>1407</td>\n",
       "        </tr>\n",
       "        <tr>\n",
       "            <td>s3://warehouse/lakehouse/customers/data/00013-26-1406b9fb-a6d7-4b6c-8492-15c832d3bf3f-0-00001.parquet</td>\n",
       "            <td>1</td>\n",
       "            <td>1407</td>\n",
       "        </tr>\n",
       "        <tr>\n",
       "            <td>s3://warehouse/lakehouse/customers/data/00000-5-a741261a-ad83-42a8-a862-7c2443459275-0-00001.parquet</td>\n",
       "            <td>1</td>\n",
       "            <td>1367</td>\n",
       "        </tr>\n",
       "        <tr>\n",
       "            <td>s3://warehouse/lakehouse/customers/data/00000-4-dddf2cca-64ab-4fb1-8fa6-529f984b7efb-0-00001.parquet</td>\n",
       "            <td>1</td>\n",
       "            <td>1367</td>\n",
       "        </tr>\n",
       "        <tr>\n",
       "            <td>s3://warehouse/lakehouse/customers/data/00000-3-4db9519f-001d-45c5-ba33-25c740ea4832-0-00001.parquet</td>\n",
       "            <td>1</td>\n",
       "            <td>1367</td>\n",
       "        </tr>\n",
       "        <tr>\n",
       "            <td>s3://warehouse/lakehouse/customers/data/00000-2-b9cbcc53-3771-4a91-8b2e-3b959544efda-0-00001.parquet</td>\n",
       "            <td>1</td>\n",
       "            <td>1367</td>\n",
       "        </tr>\n",
       "        <tr>\n",
       "            <td>s3://warehouse/lakehouse/customers/data/00000-1-4b88846f-a81b-4c91-9cc4-bf588607c59a-0-00001.parquet</td>\n",
       "            <td>1</td>\n",
       "            <td>1367</td>\n",
       "        </tr>\n",
       "        <tr>\n",
       "            <td>s3://warehouse/lakehouse/customers/data/00000-0-34a3b148-a850-4c33-8003-53192f171753-0-00001.parquet</td>\n",
       "            <td>1</td>\n",
       "            <td>1367</td>\n",
       "        </tr>\n",
       "    </tbody>\n",
       "</table>"
      ],
      "text/plain": [
       "+-------------------------------------------------------------------------------------------------------+--------------+--------------------+\n",
       "|                                                                                             file_path | record_count | file_size_in_bytes |\n",
       "+-------------------------------------------------------------------------------------------------------+--------------+--------------------+\n",
       "| s3://warehouse/lakehouse/customers/data/00000-30-6e4120ad-2356-413d-b2ee-feceb4042258-0-00001.parquet |            1 |               1438 |\n",
       "| s3://warehouse/lakehouse/customers/data/00000-27-a5adea9c-f5e1-4440-be9b-8fb866203a74-0-00001.parquet |            1 |               1367 |\n",
       "| s3://warehouse/lakehouse/customers/data/00001-28-a5adea9c-f5e1-4440-be9b-8fb866203a74-0-00001.parquet |            1 |               1416 |\n",
       "| s3://warehouse/lakehouse/customers/data/00002-29-a5adea9c-f5e1-4440-be9b-8fb866203a74-0-00001.parquet |            1 |               1396 |\n",
       "| s3://warehouse/lakehouse/customers/data/00001-14-1406b9fb-a6d7-4b6c-8492-15c832d3bf3f-0-00001.parquet |            1 |               1407 |\n",
       "| s3://warehouse/lakehouse/customers/data/00002-15-1406b9fb-a6d7-4b6c-8492-15c832d3bf3f-0-00001.parquet |            1 |               1407 |\n",
       "| s3://warehouse/lakehouse/customers/data/00004-17-1406b9fb-a6d7-4b6c-8492-15c832d3bf3f-0-00001.parquet |            1 |               1407 |\n",
       "| s3://warehouse/lakehouse/customers/data/00005-18-1406b9fb-a6d7-4b6c-8492-15c832d3bf3f-0-00001.parquet |            1 |               1407 |\n",
       "| s3://warehouse/lakehouse/customers/data/00006-19-1406b9fb-a6d7-4b6c-8492-15c832d3bf3f-0-00001.parquet |            1 |               1407 |\n",
       "| s3://warehouse/lakehouse/customers/data/00008-21-1406b9fb-a6d7-4b6c-8492-15c832d3bf3f-0-00001.parquet |            1 |               1407 |\n",
       "| s3://warehouse/lakehouse/customers/data/00009-22-1406b9fb-a6d7-4b6c-8492-15c832d3bf3f-0-00001.parquet |            1 |               1407 |\n",
       "| s3://warehouse/lakehouse/customers/data/00011-24-1406b9fb-a6d7-4b6c-8492-15c832d3bf3f-0-00001.parquet |            1 |               1407 |\n",
       "| s3://warehouse/lakehouse/customers/data/00012-25-1406b9fb-a6d7-4b6c-8492-15c832d3bf3f-0-00001.parquet |            1 |               1407 |\n",
       "| s3://warehouse/lakehouse/customers/data/00013-26-1406b9fb-a6d7-4b6c-8492-15c832d3bf3f-0-00001.parquet |            1 |               1407 |\n",
       "|  s3://warehouse/lakehouse/customers/data/00000-5-a741261a-ad83-42a8-a862-7c2443459275-0-00001.parquet |            1 |               1367 |\n",
       "|  s3://warehouse/lakehouse/customers/data/00000-4-dddf2cca-64ab-4fb1-8fa6-529f984b7efb-0-00001.parquet |            1 |               1367 |\n",
       "|  s3://warehouse/lakehouse/customers/data/00000-3-4db9519f-001d-45c5-ba33-25c740ea4832-0-00001.parquet |            1 |               1367 |\n",
       "|  s3://warehouse/lakehouse/customers/data/00000-2-b9cbcc53-3771-4a91-8b2e-3b959544efda-0-00001.parquet |            1 |               1367 |\n",
       "|  s3://warehouse/lakehouse/customers/data/00000-1-4b88846f-a81b-4c91-9cc4-bf588607c59a-0-00001.parquet |            1 |               1367 |\n",
       "|  s3://warehouse/lakehouse/customers/data/00000-0-34a3b148-a850-4c33-8003-53192f171753-0-00001.parquet |            1 |               1367 |\n",
       "+-------------------------------------------------------------------------------------------------------+--------------+--------------------+"
      ]
     },
     "execution_count": 16,
     "metadata": {},
     "output_type": "execute_result"
    }
   ],
   "source": [
    "%%sql\n",
    "SELECT\n",
    "  file_path,\n",
    "  record_count,\n",
    "  file_size_in_bytes\n",
    "FROM\n",
    "  polaris.lakehouse.customers.files;"
   ]
  },
  {
   "cell_type": "code",
   "execution_count": 17,
   "id": "3f1beb07-eaf4-489d-834d-5d8cb1790ff8",
   "metadata": {},
   "outputs": [
    {
     "data": {
      "text/html": [
       "<table>\n",
       "    <thead>\n",
       "        <tr>\n",
       "            <th>file_path</th>\n",
       "            <th>record_count</th>\n",
       "            <th>file_size_in_bytes</th>\n",
       "        </tr>\n",
       "    </thead>\n",
       "    <tbody>\n",
       "        <tr>\n",
       "            <td>s3://warehouse/lakehouse/customers/data/00000-1-4b88846f-a81b-4c91-9cc4-bf588607c59a-0-00001.parquet</td>\n",
       "            <td>1</td>\n",
       "            <td>1367</td>\n",
       "        </tr>\n",
       "        <tr>\n",
       "            <td>s3://warehouse/lakehouse/customers/data/00001-14-1406b9fb-a6d7-4b6c-8492-15c832d3bf3f-0-00001.parquet</td>\n",
       "            <td>1</td>\n",
       "            <td>1407</td>\n",
       "        </tr>\n",
       "        <tr>\n",
       "            <td>s3://warehouse/lakehouse/customers/data/00002-15-1406b9fb-a6d7-4b6c-8492-15c832d3bf3f-0-00001.parquet</td>\n",
       "            <td>1</td>\n",
       "            <td>1407</td>\n",
       "        </tr>\n",
       "        <tr>\n",
       "            <td>s3://warehouse/lakehouse/customers/data/00004-17-1406b9fb-a6d7-4b6c-8492-15c832d3bf3f-0-00001.parquet</td>\n",
       "            <td>1</td>\n",
       "            <td>1407</td>\n",
       "        </tr>\n",
       "        <tr>\n",
       "            <td>s3://warehouse/lakehouse/customers/data/00005-18-1406b9fb-a6d7-4b6c-8492-15c832d3bf3f-0-00001.parquet</td>\n",
       "            <td>1</td>\n",
       "            <td>1407</td>\n",
       "        </tr>\n",
       "        <tr>\n",
       "            <td>s3://warehouse/lakehouse/customers/data/00006-19-1406b9fb-a6d7-4b6c-8492-15c832d3bf3f-0-00001.parquet</td>\n",
       "            <td>1</td>\n",
       "            <td>1407</td>\n",
       "        </tr>\n",
       "        <tr>\n",
       "            <td>s3://warehouse/lakehouse/customers/data/00008-21-1406b9fb-a6d7-4b6c-8492-15c832d3bf3f-0-00001.parquet</td>\n",
       "            <td>1</td>\n",
       "            <td>1407</td>\n",
       "        </tr>\n",
       "        <tr>\n",
       "            <td>s3://warehouse/lakehouse/customers/data/00009-22-1406b9fb-a6d7-4b6c-8492-15c832d3bf3f-0-00001.parquet</td>\n",
       "            <td>1</td>\n",
       "            <td>1407</td>\n",
       "        </tr>\n",
       "        <tr>\n",
       "            <td>s3://warehouse/lakehouse/customers/data/00011-24-1406b9fb-a6d7-4b6c-8492-15c832d3bf3f-0-00001.parquet</td>\n",
       "            <td>1</td>\n",
       "            <td>1407</td>\n",
       "        </tr>\n",
       "        <tr>\n",
       "            <td>s3://warehouse/lakehouse/customers/data/00012-25-1406b9fb-a6d7-4b6c-8492-15c832d3bf3f-0-00001.parquet</td>\n",
       "            <td>1</td>\n",
       "            <td>1407</td>\n",
       "        </tr>\n",
       "        <tr>\n",
       "            <td>s3://warehouse/lakehouse/customers/data/00013-26-1406b9fb-a6d7-4b6c-8492-15c832d3bf3f-0-00001.parquet</td>\n",
       "            <td>1</td>\n",
       "            <td>1407</td>\n",
       "        </tr>\n",
       "        <tr>\n",
       "            <td>s3://warehouse/lakehouse/customers/data/00000-0-34a3b148-a850-4c33-8003-53192f171753-0-00001.parquet</td>\n",
       "            <td>1</td>\n",
       "            <td>1367</td>\n",
       "        </tr>\n",
       "        <tr>\n",
       "            <td>s3://warehouse/lakehouse/customers/data/00000-2-b9cbcc53-3771-4a91-8b2e-3b959544efda-0-00001.parquet</td>\n",
       "            <td>1</td>\n",
       "            <td>1367</td>\n",
       "        </tr>\n",
       "        <tr>\n",
       "            <td>s3://warehouse/lakehouse/customers/data/00000-4-dddf2cca-64ab-4fb1-8fa6-529f984b7efb-0-00001.parquet</td>\n",
       "            <td>1</td>\n",
       "            <td>1367</td>\n",
       "        </tr>\n",
       "        <tr>\n",
       "            <td>s3://warehouse/lakehouse/customers/data/00000-27-a5adea9c-f5e1-4440-be9b-8fb866203a74-0-00001.parquet</td>\n",
       "            <td>1</td>\n",
       "            <td>1367</td>\n",
       "        </tr>\n",
       "        <tr>\n",
       "            <td>s3://warehouse/lakehouse/customers/data/00001-28-a5adea9c-f5e1-4440-be9b-8fb866203a74-0-00001.parquet</td>\n",
       "            <td>1</td>\n",
       "            <td>1416</td>\n",
       "        </tr>\n",
       "        <tr>\n",
       "            <td>s3://warehouse/lakehouse/customers/data/00002-29-a5adea9c-f5e1-4440-be9b-8fb866203a74-0-00001.parquet</td>\n",
       "            <td>1</td>\n",
       "            <td>1396</td>\n",
       "        </tr>\n",
       "        <tr>\n",
       "            <td>s3://warehouse/lakehouse/customers/data/00000-30-6e4120ad-2356-413d-b2ee-feceb4042258-0-00001.parquet</td>\n",
       "            <td>1</td>\n",
       "            <td>1438</td>\n",
       "        </tr>\n",
       "        <tr>\n",
       "            <td>s3://warehouse/lakehouse/customers/data/00000-3-4db9519f-001d-45c5-ba33-25c740ea4832-0-00001.parquet</td>\n",
       "            <td>1</td>\n",
       "            <td>1367</td>\n",
       "        </tr>\n",
       "        <tr>\n",
       "            <td>s3://warehouse/lakehouse/customers/data/00000-5-a741261a-ad83-42a8-a862-7c2443459275-0-00001.parquet</td>\n",
       "            <td>1</td>\n",
       "            <td>1367</td>\n",
       "        </tr>\n",
       "    </tbody>\n",
       "</table>"
      ],
      "text/plain": [
       "+-------------------------------------------------------------------------------------------------------+--------------+--------------------+\n",
       "|                                                                                             file_path | record_count | file_size_in_bytes |\n",
       "+-------------------------------------------------------------------------------------------------------+--------------+--------------------+\n",
       "|  s3://warehouse/lakehouse/customers/data/00000-1-4b88846f-a81b-4c91-9cc4-bf588607c59a-0-00001.parquet |            1 |               1367 |\n",
       "| s3://warehouse/lakehouse/customers/data/00001-14-1406b9fb-a6d7-4b6c-8492-15c832d3bf3f-0-00001.parquet |            1 |               1407 |\n",
       "| s3://warehouse/lakehouse/customers/data/00002-15-1406b9fb-a6d7-4b6c-8492-15c832d3bf3f-0-00001.parquet |            1 |               1407 |\n",
       "| s3://warehouse/lakehouse/customers/data/00004-17-1406b9fb-a6d7-4b6c-8492-15c832d3bf3f-0-00001.parquet |            1 |               1407 |\n",
       "| s3://warehouse/lakehouse/customers/data/00005-18-1406b9fb-a6d7-4b6c-8492-15c832d3bf3f-0-00001.parquet |            1 |               1407 |\n",
       "| s3://warehouse/lakehouse/customers/data/00006-19-1406b9fb-a6d7-4b6c-8492-15c832d3bf3f-0-00001.parquet |            1 |               1407 |\n",
       "| s3://warehouse/lakehouse/customers/data/00008-21-1406b9fb-a6d7-4b6c-8492-15c832d3bf3f-0-00001.parquet |            1 |               1407 |\n",
       "| s3://warehouse/lakehouse/customers/data/00009-22-1406b9fb-a6d7-4b6c-8492-15c832d3bf3f-0-00001.parquet |            1 |               1407 |\n",
       "| s3://warehouse/lakehouse/customers/data/00011-24-1406b9fb-a6d7-4b6c-8492-15c832d3bf3f-0-00001.parquet |            1 |               1407 |\n",
       "| s3://warehouse/lakehouse/customers/data/00012-25-1406b9fb-a6d7-4b6c-8492-15c832d3bf3f-0-00001.parquet |            1 |               1407 |\n",
       "| s3://warehouse/lakehouse/customers/data/00013-26-1406b9fb-a6d7-4b6c-8492-15c832d3bf3f-0-00001.parquet |            1 |               1407 |\n",
       "|  s3://warehouse/lakehouse/customers/data/00000-0-34a3b148-a850-4c33-8003-53192f171753-0-00001.parquet |            1 |               1367 |\n",
       "|  s3://warehouse/lakehouse/customers/data/00000-2-b9cbcc53-3771-4a91-8b2e-3b959544efda-0-00001.parquet |            1 |               1367 |\n",
       "|  s3://warehouse/lakehouse/customers/data/00000-4-dddf2cca-64ab-4fb1-8fa6-529f984b7efb-0-00001.parquet |            1 |               1367 |\n",
       "| s3://warehouse/lakehouse/customers/data/00000-27-a5adea9c-f5e1-4440-be9b-8fb866203a74-0-00001.parquet |            1 |               1367 |\n",
       "| s3://warehouse/lakehouse/customers/data/00001-28-a5adea9c-f5e1-4440-be9b-8fb866203a74-0-00001.parquet |            1 |               1416 |\n",
       "| s3://warehouse/lakehouse/customers/data/00002-29-a5adea9c-f5e1-4440-be9b-8fb866203a74-0-00001.parquet |            1 |               1396 |\n",
       "| s3://warehouse/lakehouse/customers/data/00000-30-6e4120ad-2356-413d-b2ee-feceb4042258-0-00001.parquet |            1 |               1438 |\n",
       "|  s3://warehouse/lakehouse/customers/data/00000-3-4db9519f-001d-45c5-ba33-25c740ea4832-0-00001.parquet |            1 |               1367 |\n",
       "|  s3://warehouse/lakehouse/customers/data/00000-5-a741261a-ad83-42a8-a862-7c2443459275-0-00001.parquet |            1 |               1367 |\n",
       "+-------------------------------------------------------------------------------------------------------+--------------+--------------------+"
      ]
     },
     "execution_count": 17,
     "metadata": {},
     "output_type": "execute_result"
    }
   ],
   "source": [
    "%%sql\n",
    "SELECT\n",
    "  file_path,\n",
    "  record_count,\n",
    "  file_size_in_bytes\n",
    "FROM\n",
    "  polaris.lakehouse.customers.all_data_files;"
   ]
  },
  {
   "cell_type": "markdown",
   "id": "5d342ee6-a6c0-47c8-9013-f37b81fe8a16",
   "metadata": {},
   "source": [
    "## Expire snapshots"
   ]
  },
  {
   "cell_type": "code",
   "execution_count": null,
   "id": "378c3a9a-0743-4df3-a754-648a4aae977e",
   "metadata": {},
   "outputs": [
    {
     "data": {
      "text/html": [
       "<table>\n",
       "    <thead>\n",
       "        <tr>\n",
       "            <th>committed_at</th>\n",
       "            <th>snapshot_id</th>\n",
       "            <th>parent_id</th>\n",
       "            <th>manifest_list</th>\n",
       "        </tr>\n",
       "    </thead>\n",
       "    <tbody>\n",
       "        <tr>\n",
       "            <td>2025-07-14 14:37:31.531000</td>\n",
       "            <td>2403840741999442414</td>\n",
       "            <td>None</td>\n",
       "            <td>s3://warehouse/rmoff/customers/metadata/snap-2403840741999442414-1-007b3a78-a267-43e5-aee1-1d8f3e5a147d.avro</td>\n",
       "        </tr>\n",
       "        <tr>\n",
       "            <td>2025-07-14 14:37:38.926000</td>\n",
       "            <td>3830932525036690208</td>\n",
       "            <td>2403840741999442414</td>\n",
       "            <td>s3://warehouse/rmoff/customers/metadata/snap-3830932525036690208-1-8dab0845-7f6b-4ec4-b417-26c17d993add.avro</td>\n",
       "        </tr>\n",
       "        <tr>\n",
       "            <td>2025-07-14 14:37:39.916000</td>\n",
       "            <td>6409867327989167022</td>\n",
       "            <td>3830932525036690208</td>\n",
       "            <td>s3://warehouse/rmoff/customers/metadata/snap-6409867327989167022-1-7b5585b8-fad2-450b-b08f-fa9f277662b6.avro</td>\n",
       "        </tr>\n",
       "        <tr>\n",
       "            <td>2025-07-14 14:37:40.921000</td>\n",
       "            <td>325546929694535411</td>\n",
       "            <td>6409867327989167022</td>\n",
       "            <td>s3://warehouse/rmoff/customers/metadata/snap-325546929694535411-1-3a105c0c-dd60-4c91-9042-2d0f7925bbcd.avro</td>\n",
       "        </tr>\n",
       "        <tr>\n",
       "            <td>2025-07-14 14:37:41.808000</td>\n",
       "            <td>269825382665437490</td>\n",
       "            <td>325546929694535411</td>\n",
       "            <td>s3://warehouse/rmoff/customers/metadata/snap-269825382665437490-1-d3f8a73b-df91-4b8f-b585-e6f5237c9601.avro</td>\n",
       "        </tr>\n",
       "        <tr>\n",
       "            <td>2025-07-14 14:37:42.757000</td>\n",
       "            <td>129306070246549703</td>\n",
       "            <td>269825382665437490</td>\n",
       "            <td>s3://warehouse/rmoff/customers/metadata/snap-129306070246549703-1-5f52fc1a-ac1b-457b-b52f-fa6bed1a233d.avro</td>\n",
       "        </tr>\n",
       "        <tr>\n",
       "            <td>2025-07-14 14:40:11.290000</td>\n",
       "            <td>8861050211953882166</td>\n",
       "            <td>129306070246549703</td>\n",
       "            <td>s3://warehouse/rmoff/customers/metadata/snap-8861050211953882166-1-ad6e5d20-590f-40ad-b73a-fca12f412274.avro</td>\n",
       "        </tr>\n",
       "        <tr>\n",
       "            <td>2025-07-14 14:42:07.828000</td>\n",
       "            <td>2371922233042001406</td>\n",
       "            <td>8861050211953882166</td>\n",
       "            <td>s3://warehouse/rmoff/customers/metadata/snap-2371922233042001406-1-523344c2-1dbe-4c37-be8c-c56981c0e536.avro</td>\n",
       "        </tr>\n",
       "        <tr>\n",
       "            <td>2025-07-14 14:42:08.031000</td>\n",
       "            <td>5882833294520864762</td>\n",
       "            <td>2371922233042001406</td>\n",
       "            <td>s3://warehouse/rmoff/customers/metadata/snap-5882833294520864762-1-1a7f61bc-4c4f-48bd-8017-591b84723e39.avro</td>\n",
       "        </tr>\n",
       "        <tr>\n",
       "            <td>2025-07-14 14:42:08.230000</td>\n",
       "            <td>2961764211154500616</td>\n",
       "            <td>5882833294520864762</td>\n",
       "            <td>s3://warehouse/rmoff/customers/metadata/snap-2961764211154500616-1-f971d471-9325-4650-842b-52831cd4dab6.avro</td>\n",
       "        </tr>\n",
       "        <tr>\n",
       "            <td>2025-07-14 14:42:08.407000</td>\n",
       "            <td>6373025590410861521</td>\n",
       "            <td>2961764211154500616</td>\n",
       "            <td>s3://warehouse/rmoff/customers/metadata/snap-6373025590410861521-1-21b5fe2c-dd6c-4340-b96b-063dc0c63ca9.avro</td>\n",
       "        </tr>\n",
       "        <tr>\n",
       "            <td>2025-07-14 14:42:08.600000</td>\n",
       "            <td>2039216781855207414</td>\n",
       "            <td>6373025590410861521</td>\n",
       "            <td>s3://warehouse/rmoff/customers/metadata/snap-2039216781855207414-1-ba4860c0-d6b8-45af-b6aa-d834f7b90bf0.avro</td>\n",
       "        </tr>\n",
       "        <tr>\n",
       "            <td>2025-07-14 14:44:42.232000</td>\n",
       "            <td>4056286565502898119</td>\n",
       "            <td>2039216781855207414</td>\n",
       "            <td>s3://warehouse/rmoff/customers/metadata/snap-4056286565502898119-1-fb710223-03b8-43fb-9e85-bef4bbd86e7c.avro</td>\n",
       "        </tr>\n",
       "    </tbody>\n",
       "</table>"
      ],
      "text/plain": [
       "+----------------------------+---------------------+---------------------+--------------------------------------------------------------------------------------------------------------+\n",
       "|               committed_at |         snapshot_id |           parent_id |                                                                                                manifest_list |\n",
       "+----------------------------+---------------------+---------------------+--------------------------------------------------------------------------------------------------------------+\n",
       "| 2025-07-14 14:37:31.531000 | 2403840741999442414 |                None | s3://warehouse/rmoff/customers/metadata/snap-2403840741999442414-1-007b3a78-a267-43e5-aee1-1d8f3e5a147d.avro |\n",
       "| 2025-07-14 14:37:38.926000 | 3830932525036690208 | 2403840741999442414 | s3://warehouse/rmoff/customers/metadata/snap-3830932525036690208-1-8dab0845-7f6b-4ec4-b417-26c17d993add.avro |\n",
       "| 2025-07-14 14:37:39.916000 | 6409867327989167022 | 3830932525036690208 | s3://warehouse/rmoff/customers/metadata/snap-6409867327989167022-1-7b5585b8-fad2-450b-b08f-fa9f277662b6.avro |\n",
       "| 2025-07-14 14:37:40.921000 |  325546929694535411 | 6409867327989167022 |  s3://warehouse/rmoff/customers/metadata/snap-325546929694535411-1-3a105c0c-dd60-4c91-9042-2d0f7925bbcd.avro |\n",
       "| 2025-07-14 14:37:41.808000 |  269825382665437490 |  325546929694535411 |  s3://warehouse/rmoff/customers/metadata/snap-269825382665437490-1-d3f8a73b-df91-4b8f-b585-e6f5237c9601.avro |\n",
       "| 2025-07-14 14:37:42.757000 |  129306070246549703 |  269825382665437490 |  s3://warehouse/rmoff/customers/metadata/snap-129306070246549703-1-5f52fc1a-ac1b-457b-b52f-fa6bed1a233d.avro |\n",
       "| 2025-07-14 14:40:11.290000 | 8861050211953882166 |  129306070246549703 | s3://warehouse/rmoff/customers/metadata/snap-8861050211953882166-1-ad6e5d20-590f-40ad-b73a-fca12f412274.avro |\n",
       "| 2025-07-14 14:42:07.828000 | 2371922233042001406 | 8861050211953882166 | s3://warehouse/rmoff/customers/metadata/snap-2371922233042001406-1-523344c2-1dbe-4c37-be8c-c56981c0e536.avro |\n",
       "| 2025-07-14 14:42:08.031000 | 5882833294520864762 | 2371922233042001406 | s3://warehouse/rmoff/customers/metadata/snap-5882833294520864762-1-1a7f61bc-4c4f-48bd-8017-591b84723e39.avro |\n",
       "| 2025-07-14 14:42:08.230000 | 2961764211154500616 | 5882833294520864762 | s3://warehouse/rmoff/customers/metadata/snap-2961764211154500616-1-f971d471-9325-4650-842b-52831cd4dab6.avro |\n",
       "| 2025-07-14 14:42:08.407000 | 6373025590410861521 | 2961764211154500616 | s3://warehouse/rmoff/customers/metadata/snap-6373025590410861521-1-21b5fe2c-dd6c-4340-b96b-063dc0c63ca9.avro |\n",
       "| 2025-07-14 14:42:08.600000 | 2039216781855207414 | 6373025590410861521 | s3://warehouse/rmoff/customers/metadata/snap-2039216781855207414-1-ba4860c0-d6b8-45af-b6aa-d834f7b90bf0.avro |\n",
       "| 2025-07-14 14:44:42.232000 | 4056286565502898119 | 2039216781855207414 | s3://warehouse/rmoff/customers/metadata/snap-4056286565502898119-1-fb710223-03b8-43fb-9e85-bef4bbd86e7c.avro |\n",
       "+----------------------------+---------------------+---------------------+--------------------------------------------------------------------------------------------------------------+"
      ]
     },
     "execution_count": 17,
     "metadata": {},
     "output_type": "execute_result"
    }
   ],
   "source": [
    "%%sql\n",
    "\n",
    "SELECT committed_at, snapshot_id, parent_id, manifest_list FROM polaris.lakehouse.customers.snapshots;"
   ]
  },
  {
   "cell_type": "code",
   "execution_count": null,
   "id": "0821f434-95c1-4038-92b3-c16543e0f1c7",
   "metadata": {},
   "outputs": [],
   "source": [
    "%%sql\n",
    "\n",
    "CALL polaris.system.expire_snapshots(table => 'lakehouse.customers',\n",
    "                                                older_than => TIMESTAMP '2025-07-11 12:40:00.000')"
   ]
  },
  {
   "cell_type": "code",
   "execution_count": null,
   "id": "927150d4-3f7e-4b87-8a75-1265db401b35",
   "metadata": {},
   "outputs": [],
   "source": [
    "%%sql\n",
    "\n",
    "SELECT committed_at, snapshot_id, parent_id, manifest_list FROM polaris.lakehouse.customers.snapshots;"
   ]
  },
  {
   "cell_type": "markdown",
   "id": "d8996ce1-c8d1-4f20-82ef-f267f425540d",
   "metadata": {},
   "source": [
    "## Remove orphan files\n",
    "\n",
    "https://github.com/apache/polaris/issues/214\n",
    "https://github.com/pavibhai/polaris/commit/09de4c8fefd6894cca14298df389459999cdc58a"
   ]
  },
  {
   "cell_type": "code",
   "execution_count": null,
   "id": "7e159f4e-0d37-472a-be9f-d9fc897b7060",
   "metadata": {},
   "outputs": [],
   "source": [
    "%%sql\n",
    "    \n",
    "    CALL polaris.system.remove_orphan_files(table => 'lakehouse.customers', \n",
    "                                            dry_run => true)"
   ]
  },
  {
   "cell_type": "markdown",
   "id": "feb8c92a-b8c3-440f-864b-dcca11ab4e47",
   "metadata": {},
   "source": [
    "```sql\n",
    "trino:lakehouse> SET SESSION iceberg.remove_orphan_files_min_retention = '10s';\n",
    "SET SESSION\n",
    "trino:lakehouse> ALTER TABLE customers EXECUTE remove_orphan_files(retention_threshold => '1s');\n",
    "\n",
    "Query 20250711_135921_00014_4hdju, FAILED, 1 node\n",
    "Splits: 1 total, 0 done (0.00%)\n",
    "0.07 [0 rows, 0B] [0 rows/s, 0B/s]\n",
    "\n",
    "Query 20250711_135921_00014_4hdju failed: Retention specified (1.00s) is shorter than the minimum retention configured in the system (10.00s). Minimum retention can be chan\n",
    "ged with iceberg.remove-orphan-files.min-retention configuration property or iceberg.remove_orphan_files_min_retention session property\n",
    "\n",
    "trino:lakehouse> ALTER TABLE customers EXECUTE remove_orphan_files(retention_threshold => '15s');\n",
    "ALTER TABLE EXECUTE\n",
    " rows\n",
    "------\n",
    "(0 rows)\n",
    "\n",
    "Query 20250711_135924_00015_4hdju, FINISHED, 1 node\n",
    "Splits: 1 total, 1 done (100.00%)\n",
    "0.10 [0 rows, 0B] [0 rows/s, 0B/s]\n",
    "\n",
    "trino:lakehouse>\n",
    "```"
   ]
  },
  {
   "cell_type": "markdown",
   "id": "effa6562-d78d-4265-854a-029bad3192f0",
   "metadata": {},
   "source": [
    "# Time travel"
   ]
  },
  {
   "cell_type": "code",
   "execution_count": null,
   "id": "fb35d470-b52f-4f3a-bcd6-9f8283d7a646",
   "metadata": {},
   "outputs": [],
   "source": [
    "%%sql\n",
    "\n",
    "SELECT * FROM customers "
   ]
  },
  {
   "cell_type": "code",
   "execution_count": null,
   "id": "2d0e541b-18d2-4da3-bb07-dde99c6a5c0e",
   "metadata": {},
   "outputs": [],
   "source": [
    "%%sql\n",
    "\n",
    "SELECT * FROM customers VERSION AS OF 8348506506333219028"
   ]
  },
  {
   "cell_type": "code",
   "execution_count": null,
   "id": "10323fe8-15ed-45b2-9c75-8625955f3f7b",
   "metadata": {},
   "outputs": [],
   "source": [
    "%%sql\n",
    "\n",
    "SELECT * from polaris.lakehouse.customers.manifests;"
   ]
  },
  {
   "cell_type": "code",
   "execution_count": null,
   "id": "17545066-17f8-491c-840d-3f1cb15ea738",
   "metadata": {},
   "outputs": [],
   "source": [
    "%%sql\n",
    "\n",
    "SELECT * FROM polaris.lakehouse.customers.manifests TIMESTAMP AS OF (NOW() - INTERVAL 30 SECONDS);\n"
   ]
  },
  {
   "cell_type": "markdown",
   "id": "ce4f97eb-59dc-4894-b5dd-9d38fa577c2c",
   "metadata": {},
   "source": [
    "## Manifests "
   ]
  },
  {
   "cell_type": "code",
   "execution_count": null,
   "id": "d5e00782-f34e-46e3-a0bc-ee3156c1dcc4",
   "metadata": {},
   "outputs": [],
   "source": [
    "%%sql\n",
    "\n",
    "SELECT * from polaris.lakehouse.customers.manifests;"
   ]
  },
  {
   "cell_type": "markdown",
   "id": "b5576bf0-29aa-4a52-bb5a-6a2c90bf6ecc",
   "metadata": {},
   "source": [
    "## Snapshots"
   ]
  },
  {
   "cell_type": "code",
   "execution_count": null,
   "id": "45a7e5c8-b12e-458a-ba40-c4d6090977b5",
   "metadata": {},
   "outputs": [],
   "source": [
    "%%sql\n",
    "\n",
    "SELECT * from polaris.lakehouse.customers.snapshots;"
   ]
  },
  {
   "cell_type": "code",
   "execution_count": null,
   "id": "b9ea9b96-350e-43a3-8d2e-39de791c9929",
   "metadata": {},
   "outputs": [],
   "source": [
    "%%sql\n",
    "\n",
    "SELECT snapshot_id, manifest_list from polaris.lakehouse.customers.snapshots \n",
    "    WHERE committed_at > NOW() - INTERVAL 30 MINUTES \n",
    "    ORDER BY committed_at ASC LIMIT 1"
   ]
  },
  {
   "cell_type": "markdown",
   "id": "dc898ecb-d4c7-450b-9e17-c9e933ae03ba",
   "metadata": {},
   "source": [
    "# metadata"
   ]
  },
  {
   "cell_type": "code",
   "execution_count": null,
   "id": "3e4ea3e3-788e-4322-afa1-fc96a536a14a",
   "metadata": {},
   "outputs": [],
   "source": [
    "%%sql\n",
    "\n",
    "SELECT * from polaris.lakehouse.customers.metadata_log_entries;"
   ]
  },
  {
   "cell_type": "code",
   "execution_count": null,
   "id": "8555c1f8-ada6-4443-b6e9-569c6dbc6ab8",
   "metadata": {},
   "outputs": [
    {
     "data": {
      "text/html": [
       "<table>\n",
       "    <thead>\n",
       "        <tr>\n",
       "            <th>made_current_at</th>\n",
       "            <th>operation</th>\n",
       "            <th>snapshot_id</th>\n",
       "            <th>is_current_ancestor</th>\n",
       "        </tr>\n",
       "    </thead>\n",
       "    <tbody>\n",
       "        <tr>\n",
       "            <td>2025-07-14 14:37:31.531000</td>\n",
       "            <td>append</td>\n",
       "            <td>2403840741999442414</td>\n",
       "            <td>True</td>\n",
       "        </tr>\n",
       "        <tr>\n",
       "            <td>2025-07-14 14:37:38.926000</td>\n",
       "            <td>append</td>\n",
       "            <td>3830932525036690208</td>\n",
       "            <td>True</td>\n",
       "        </tr>\n",
       "        <tr>\n",
       "            <td>2025-07-14 14:37:39.916000</td>\n",
       "            <td>append</td>\n",
       "            <td>6409867327989167022</td>\n",
       "            <td>True</td>\n",
       "        </tr>\n",
       "        <tr>\n",
       "            <td>2025-07-14 14:37:40.921000</td>\n",
       "            <td>append</td>\n",
       "            <td>325546929694535411</td>\n",
       "            <td>True</td>\n",
       "        </tr>\n",
       "        <tr>\n",
       "            <td>2025-07-14 14:37:41.808000</td>\n",
       "            <td>append</td>\n",
       "            <td>269825382665437490</td>\n",
       "            <td>True</td>\n",
       "        </tr>\n",
       "        <tr>\n",
       "            <td>2025-07-14 14:37:42.757000</td>\n",
       "            <td>append</td>\n",
       "            <td>129306070246549703</td>\n",
       "            <td>True</td>\n",
       "        </tr>\n",
       "        <tr>\n",
       "            <td>2025-07-14 14:40:11.290000</td>\n",
       "            <td>replace</td>\n",
       "            <td>8861050211953882166</td>\n",
       "            <td>True</td>\n",
       "        </tr>\n",
       "        <tr>\n",
       "            <td>2025-07-14 14:42:07.828000</td>\n",
       "            <td>append</td>\n",
       "            <td>2371922233042001406</td>\n",
       "            <td>True</td>\n",
       "        </tr>\n",
       "        <tr>\n",
       "            <td>2025-07-14 14:42:08.031000</td>\n",
       "            <td>append</td>\n",
       "            <td>5882833294520864762</td>\n",
       "            <td>True</td>\n",
       "        </tr>\n",
       "        <tr>\n",
       "            <td>2025-07-14 14:42:08.230000</td>\n",
       "            <td>append</td>\n",
       "            <td>2961764211154500616</td>\n",
       "            <td>True</td>\n",
       "        </tr>\n",
       "        <tr>\n",
       "            <td>2025-07-14 14:42:08.407000</td>\n",
       "            <td>append</td>\n",
       "            <td>6373025590410861521</td>\n",
       "            <td>True</td>\n",
       "        </tr>\n",
       "        <tr>\n",
       "            <td>2025-07-14 14:42:08.600000</td>\n",
       "            <td>append</td>\n",
       "            <td>2039216781855207414</td>\n",
       "            <td>True</td>\n",
       "        </tr>\n",
       "        <tr>\n",
       "            <td>2025-07-14 14:44:42.232000</td>\n",
       "            <td>replace</td>\n",
       "            <td>4056286565502898119</td>\n",
       "            <td>True</td>\n",
       "        </tr>\n",
       "    </tbody>\n",
       "</table>"
      ],
      "text/plain": [
       "+----------------------------+-----------+---------------------+---------------------+\n",
       "|            made_current_at | operation |         snapshot_id | is_current_ancestor |\n",
       "+----------------------------+-----------+---------------------+---------------------+\n",
       "| 2025-07-14 14:37:31.531000 |    append | 2403840741999442414 |                True |\n",
       "| 2025-07-14 14:37:38.926000 |    append | 3830932525036690208 |                True |\n",
       "| 2025-07-14 14:37:39.916000 |    append | 6409867327989167022 |                True |\n",
       "| 2025-07-14 14:37:40.921000 |    append |  325546929694535411 |                True |\n",
       "| 2025-07-14 14:37:41.808000 |    append |  269825382665437490 |                True |\n",
       "| 2025-07-14 14:37:42.757000 |    append |  129306070246549703 |                True |\n",
       "| 2025-07-14 14:40:11.290000 |   replace | 8861050211953882166 |                True |\n",
       "| 2025-07-14 14:42:07.828000 |    append | 2371922233042001406 |                True |\n",
       "| 2025-07-14 14:42:08.031000 |    append | 5882833294520864762 |                True |\n",
       "| 2025-07-14 14:42:08.230000 |    append | 2961764211154500616 |                True |\n",
       "| 2025-07-14 14:42:08.407000 |    append | 6373025590410861521 |                True |\n",
       "| 2025-07-14 14:42:08.600000 |    append | 2039216781855207414 |                True |\n",
       "| 2025-07-14 14:44:42.232000 |   replace | 4056286565502898119 |                True |\n",
       "+----------------------------+-----------+---------------------+---------------------+"
      ]
     },
     "execution_count": 18,
     "metadata": {},
     "output_type": "execute_result"
    }
   ],
   "source": [
    "%%sql\n",
    "\n",
    "select\n",
    "    h.made_current_at,\n",
    "    s.operation,\n",
    "    h.snapshot_id,\n",
    "    h.is_current_ancestor\n",
    "from polaris.lakehouse.customers.history h\n",
    "join polaris.lakehouse.customers.snapshots s\n",
    "  on h.snapshot_id = s.snapshot_id\n",
    "order by made_current_at;"
   ]
  },
  {
   "cell_type": "markdown",
   "id": "d57fd532-8c9a-40be-861a-5fc728755a61",
   "metadata": {},
   "source": [
    "# Delete"
   ]
  },
  {
   "cell_type": "code",
   "execution_count": null,
   "id": "29f3016a-0f89-4f71-ba2b-c168086b7db3",
   "metadata": {},
   "outputs": [],
   "source": [
    "%%sql\n",
    "\n",
    "DELETE FROM customers WHERE customer_id=1;"
   ]
  },
  {
   "cell_type": "code",
   "execution_count": null,
   "id": "5ab3399f-813d-4a5d-afff-03718c7df3a9",
   "metadata": {},
   "outputs": [],
   "source": [
    "%%sql\n",
    "SELECT\n",
    "    content,\n",
    "  file_path,\n",
    "  record_count,\n",
    "  file_size_in_bytes\n",
    "FROM\n",
    "  polaris.lakehouse.customers.files;"
   ]
  },
  {
   "cell_type": "code",
   "execution_count": null,
   "id": "f4795f15-f545-4dd7-bee4-b5458bb94064",
   "metadata": {},
   "outputs": [],
   "source": [
    "%%sql\n",
    "SELECT\n",
    "    content,\n",
    "  file_path,\n",
    "  record_count,\n",
    "  file_size_in_bytes\n",
    "FROM\n",
    "  polaris.lakehouse.customers.all_data_files;"
   ]
  },
  {
   "cell_type": "markdown",
   "id": "df8b5bf8-fcfc-4612-a9e0-fe03e0dfe008",
   "metadata": {},
   "source": [
    "# Update"
   ]
  },
  {
   "cell_type": "code",
   "execution_count": null,
   "id": "a4be29ba-a4ab-4454-8f57-3b5c0add1a1d",
   "metadata": {},
   "outputs": [],
   "source": [
    "%%sql\n",
    "\n",
    "SELECT * FROM customers"
   ]
  },
  {
   "cell_type": "code",
   "execution_count": null,
   "id": "8c715c76-e650-45d4-b1b6-c323b7f73929",
   "metadata": {},
   "outputs": [],
   "source": [
    "%%sql\n",
    "\n",
    "UPDATE customers SET first_name = 'Bob' where first_name = 'Hermione';"
   ]
  },
  {
   "cell_type": "markdown",
   "id": "bee0a976-756f-4fab-bf4f-d1e286e493f2",
   "metadata": {},
   "source": [
    "# Add column"
   ]
  },
  {
   "cell_type": "code",
   "execution_count": null,
   "id": "bb873804-ccf2-4c10-9c79-da3f08c00773",
   "metadata": {},
   "outputs": [],
   "source": [
    "%%sql\n",
    "ALTER TABLE customers DROP COLUMN phone"
   ]
  },
  {
   "cell_type": "code",
   "execution_count": null,
   "id": "a01fb956-c728-4f54-82f7-4746ac4bd73a",
   "metadata": {},
   "outputs": [],
   "source": [
    "%%sql\n",
    "INSERT INTO customers VALUES (3,'FRED','BLOGGS','fred@hotspot.com','0000 1234 1234');"
   ]
  },
  {
   "cell_type": "code",
   "execution_count": null,
   "id": "f5165742-fc35-42af-adc1-433e145c2878",
   "metadata": {},
   "outputs": [],
   "source": [
    "%%sql\n",
    "SELECT * FROM customers;"
   ]
  },
  {
   "cell_type": "code",
   "execution_count": null,
   "id": "02455f6f-345c-4deb-a35c-eef46393e182",
   "metadata": {},
   "outputs": [],
   "source": [
    "%%sql\n",
    "SELECT * FROM customers TIMESTAMP AS OF (NOW() - INTERVAL 30 MINUTES);"
   ]
  },
  {
   "cell_type": "code",
   "execution_count": null,
   "id": "68b59165-6cc7-4eb6-bca5-7ad4a219d624",
   "metadata": {},
   "outputs": [],
   "source": [
    "%%sql\n",
    "SELECT * FROM customers VERSION AS OF 7334416300196800603;"
   ]
  },
  {
   "cell_type": "code",
   "execution_count": null,
   "id": "911e1e1a-d6de-4d36-948e-5c5a1e147a1c",
   "metadata": {},
   "outputs": [],
   "source": [
    "%%sql\n",
    "SELECT * FROM customers;"
   ]
  },
  {
   "cell_type": "code",
   "execution_count": null,
   "id": "2ab5a491-1986-415d-a59e-1378fc9dcdf4",
   "metadata": {},
   "outputs": [],
   "source": [
    "%%sql\n",
    "INSERT INTO customers (customer_id, first_name, last_name, email) \n",
    "VALUES        (3, 'Tony', 'Stark', 'tony@starkindustries.com');"
   ]
  },
  {
   "cell_type": "code",
   "execution_count": null,
   "id": "d5ee9792-0c81-498b-80f2-fa82d91e98b2",
   "metadata": {},
   "outputs": [],
   "source": [
    "%%sql\n",
    "DELETE FROM customers;"
   ]
  },
  {
   "cell_type": "code",
   "execution_count": null,
   "id": "0d5cc7c8-e309-459c-8e4c-f1d6a78d16fc",
   "metadata": {},
   "outputs": [],
   "source": [
    "%%sql\n",
    "    CALL polaris.system.rollback_to_snapshot('lakehouse.customers', 707189909035517389)"
   ]
  }
 ],
 "metadata": {
  "kernelspec": {
   "display_name": "Python 3 (ipykernel)",
   "language": "python",
   "name": "python3"
  },
  "language_info": {
   "codemirror_mode": {
    "name": "ipython",
    "version": 3
   },
   "file_extension": ".py",
   "mimetype": "text/x-python",
   "name": "python",
   "nbconvert_exporter": "python",
   "pygments_lexer": "ipython3",
   "version": "3.10.16"
  }
 },
 "nbformat": 4,
 "nbformat_minor": 5
}
